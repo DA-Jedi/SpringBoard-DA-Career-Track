{
 "cells": [
  {
   "cell_type": "markdown",
   "metadata": {},
   "source": [
    "# What is the True Normal Human Body Temperature? \n",
    "\n",
    "#### Background\n",
    "\n",
    "The mean normal body temperature was held to be 37$^{\\circ}$C or 98.6$^{\\circ}$F for more than 120 years since it was first conceptualized and reported by Carl Wunderlich in a famous 1868 book. But, is this value statistically correct?"
   ]
  },
  {
   "cell_type": "markdown",
   "metadata": {},
   "source": [
    "<h3>Exercises</h3>\n",
    "\n",
    "<p>In this exercise, you will analyze a dataset of human body temperatures and employ the concepts of hypothesis testing, confidence intervals, and statistical significance.</p>\n",
    "\n",
    "<p>Answer the following questions <b>in this notebook below and submit to your Github account</b>.</p> \n",
    "\n",
    "<ol>\n",
    "<li>  Is the distribution of body temperatures normal? \n",
    "    <ul>\n",
    "    <li> Although this is not a requirement for CLT to hold (read CLT carefully), it gives us some peace of mind that the population may also be normally distributed if we assume that this sample is representative of the population.\n",
    "    </ul>\n",
    "<li>  Is the sample size large? Are the observations independent?\n",
    "    <ul>\n",
    "    <li> Remember that this is a condition for the CLT, and hence the statistical tests we are using, to apply.\n",
    "    </ul>\n",
    "<li>  Is the true population mean really 98.6 degrees F?\n",
    "    <ul>\n",
    "    <li> Would you use a one-sample or two-sample test? Why?\n",
    "    <li> In this situation, is it appropriate to use the $t$ or $z$ statistic? \n",
    "    <li> Now try using the other test. How is the result be different? Why?\n",
    "    </ul>\n",
    "<li>  Draw a small sample of size 10 from the data and repeat both tests. \n",
    "    <ul>\n",
    "    <li> Which one is the correct one to use? \n",
    "    <li> What do you notice? What does this tell you about the difference in application of the $t$ and $z$ statistic?\n",
    "    </ul>\n",
    "<li>  At what temperature should we consider someone's temperature to be \"abnormal\"?\n",
    "    <ul>\n",
    "    <li> Start by computing the margin of error and confidence interval.\n",
    "    </ul>\n",
    "<li>  Is there a significant difference between males and females in normal temperature?\n",
    "    <ul>\n",
    "    <li> What test did you use and why?\n",
    "    <li> Write a story with your conclusion in the context of the original problem.\n",
    "    </ul>\n",
    "</ol>\n",
    "\n",
    "You can include written notes in notebook cells using Markdown: \n",
    "   - In the control panel at the top, choose Cell > Cell Type > Markdown\n",
    "   - Markdown syntax: http://nestacms.com/docs/creating-content/markdown-cheat-sheet\n",
    "\n",
    "#### Resources\n",
    "\n",
    "+ Information and data sources: http://www.amstat.org/publications/jse/datasets/normtemp.txt, http://www.amstat.org/publications/jse/jse_data_archive.htm\n",
    "+ Markdown syntax: http://nestacms.com/docs/creating-content/markdown-cheat-sheet\n",
    "\n",
    "****"
   ]
  },
  {
   "cell_type": "markdown",
   "metadata": {},
   "source": [
    "1)Is the distribution of body temperatures normal?\n",
    "    Although this is not a requirement for CLT to hold (read CLT carefully), it gives us some peace of mind that the population may also be normally distributed if we assume that this sample is representative of the population. \n",
    "    \n",
    "ANswer: Yes it is normal"
   ]
  },
  {
   "cell_type": "code",
   "execution_count": 2,
   "metadata": {
    "collapsed": true
   },
   "outputs": [],
   "source": [
    "import pandas as pd\n",
    "import numpy as np\n",
    "import matplotlib.pyplot as plt\n",
    "import seaborn as sn\n",
    "import scipy\n",
    "import pylab\n",
    "import scipy.stats as stats\n",
    "from statsmodels.stats.weightstats import DescrStatsW, CompareMeans, ttest_ind, ztest, zconfint\n",
    "from scipy.stats import norm\n",
    "from scipy.stats import skew\n",
    "from scipy.stats import kurtosis\n",
    "\n",
    "df = pd.read_csv('data/human_body_temperature.csv')"
   ]
  },
  {
   "cell_type": "code",
   "execution_count": 3,
   "metadata": {
    "collapsed": true
   },
   "outputs": [],
   "source": [
    "# Your work here.df.head"
   ]
  },
  {
   "cell_type": "markdown",
   "metadata": {},
   "source": [
    "### Is the distribution of body temperatures normal?\n",
    "    Although this is not a requirement for CLT to hold (read CLT carefully), \n",
    "    it gives us some peace of mind that the population may also be normally distributed\n",
    "    if we assume that this sample is representative of the population.    \n",
    "Answer: Yes. It is normal. Based on the Normal curve distribution show below, the ecdf mapping and the prob distribution plot, it is very clear that the distribution of the body temperature is normal with a skew of -0.004 and kurtosis of 0.7."
   ]
  },
  {
   "cell_type": "code",
   "execution_count": 4,
   "metadata": {},
   "outputs": [
    {
     "data": {
      "image/png": "[encoded data removed]",
      "text/plain": [
       "<matplotlib.figure.Figure at 0x117dbd75748>"
      ]
     },
     "metadata": {},
     "output_type": "display_data"
    },
    {
     "name": "stdout",
     "output_type": "stream",
     "text": [
      "Chi-Sq Val:2.70380143332,p-value=0.258747986349, mean: 98.2492307692, median=98.3, skew=-0.004367976879198334,kurtosis=0.7049597854114715\n"
     ]
    }
   ],
   "source": [
    "h=sorted(df.temperature)\n",
    "mn=np.mean(h)\n",
    "std=np.std(h)\n",
    "\n",
    "plt.subplot(221)\n",
    "fit = scipy.stats.norm.pdf(h, np.mean(h), np.std(h))  #this is a fitting indeed\n",
    "_=plt.plot(h,fit,'-o')\n",
    "_=plt.hist(h,bins='auto',normed=1)\n",
    "\n",
    "plt.subplot(222)\n",
    "_=plt.boxplot(h)\n",
    "\n",
    "plt.subplot(223)\n",
    "def ecdf(data):\n",
    "    x=np.sort(data)\n",
    "    y=np.arange(1,(len(data)+1))/len(data)\n",
    "    return x, y    \n",
    "x,y=ecdf(h)\n",
    "_=plt.plot(x,y)\n",
    "\n",
    "plt.subplot(224)\n",
    "stats.probplot(h, dist=\"norm\", plot=pylab)\n",
    "plt.show()\n",
    "\n",
    "a,b=scipy.stats.mstats.normaltest(h,axis=0)\n",
    "c=np.mean(h)\n",
    "d=np.median(h)\n",
    "e=skew(h)\n",
    "f=kurtosis(h)\n",
    "print('Chi-Sq Val:%s,p-value=%s, mean: %s, median=%s, skew=%s,kurtosis=%s'%(a,b,c,d,e,f) )\n"
   ]
  },
  {
   "cell_type": "markdown",
   "metadata": {},
   "source": [
    "### Q2) Is the sample size large? Are the observations independent?\n",
    "    Remember that this is a condition for the CLT, and hence the statistical tests we are using, to apply. \n",
    "\n",
    "Answer: Yes. Sample size is large (>30) which is large enough for a good statistic test. The coorelation coefficeint shown below is 1.0 which means that the observations are independent. If you look at the SEM value above, it is 0.06.So the standard error deviates only by 0.06. The 95% concfidence Interval values lie between 98.13 and 98.36 which is very close to the observed mean of 98.24. Finally Probability of finding a value <= observed mean is 0.49 which is acceptable."
   ]
  },
  {
   "cell_type": "markdown",
   "metadata": {},
   "source": [
    "Gnnerating Bootstraps samples and testing independence of data "
   ]
  },
  {
   "cell_type": "code",
   "execution_count": 19,
   "metadata": {},
   "outputs": [
    {
     "data": {
      "text/plain": [
       "1.0"
      ]
     },
     "execution_count": 19,
     "metadata": {},
     "output_type": "execute_result"
    }
   ],
   "source": [
    "np.corrcoef(h)"
   ]
  },
  {
   "cell_type": "code",
   "execution_count": 165,
   "metadata": {
    "collapsed": true
   },
   "outputs": [],
   "source": [
    "def bootstrap_replicate_1d(data, func):\n",
    "    return func(np.random.choice(data, size=len(data)))\n",
    "\n",
    "def draw_bs_reps(data, func, size=1):\n",
    "    \"\"\"Draw bootstrap replicates.\"\"\"\n",
    "\n",
    "    # Initialize array of replicates: bs_replicates\n",
    "    bs_replicates = np.empty(size)\n",
    "\n",
    "    # Generate replicates\n",
    "    for i in range(size):\n",
    "        bs_replicates[i] = bootstrap_replicate_1d(data,func)\n",
    "\n",
    "    return bs_replicates\n",
    "df_rep=draw_bs_reps(df.temperature,np.mean,10000)"
   ]
  },
  {
   "cell_type": "code",
   "execution_count": 188,
   "metadata": {},
   "outputs": [
    {
     "name": "stdout",
     "output_type": "stream",
     "text": [
      "Mean: 98.24923076923078,Replicate Mean: 98.2489624615,Standard Deviation: 0.0636933525488,Standard Error of the Mean: 0.000636933525488,5 Percent Confidence Interval: [ 98.12307692  98.37307692],Probability: 0.5029\n"
     ]
    }
   ],
   "source": [
    "mean=np.mean(df.temperature)\n",
    "df_rep_mn=np.mean(df_rep)\n",
    "STD=np.std(df_rep)\n",
    "SEM2=np.std(df_rep)/np.sqrt(len(df_rep))\n",
    "conf_ind=np.percentile(df_rep,[2.5,97.5])\n",
    "p=np.sum(df_rep<=mean)/10000\n",
    "print('Mean: %s,Replicate Mean: %s,Standard Deviation: %s,Standard Error of the Mean: %s,5 Percent Confidence Interval: %s,Probability: %s'%(mean,df_rep_mn, STD, SEM2,conf_ind,p))"
   ]
  },
  {
   "cell_type": "code",
   "execution_count": 185,
   "metadata": {},
   "outputs": [
    {
     "data": {
      "image/png": "[encoded data removed]",
      "text/plain": [
       "<matplotlib.figure.Figure at 0x117ddf00eb8>"
      ]
     },
     "metadata": {},
     "output_type": "display_data"
    }
   ],
   "source": [
    "h1=sorted(df_rep)\n",
    "mn1=np.mean(h1)\n",
    "std2=np.std(h2)\n",
    "\n",
    "fit = scipy.stats.norm.pdf(h1, np.mean(h1), np.std(h1))  #this is a fitting indeed\n",
    "_=plt.plot(h1,fit,'-o')\n",
    "_=plt.hist(h1,bins=1000,normed=1)\n",
    "#_=plt.plot(mean,marker='.')\n",
    "plt.show()"
   ]
  },
  {
   "cell_type": "markdown",
   "metadata": {},
   "source": [
    " "
   ]
  },
  {
   "cell_type": "markdown",
   "metadata": {
    "collapsed": true
   },
   "source": [
    "### Is the true population mean really 98.6 degrees F?\n",
    "    Would you use a one-sample or two-sample test? Why?\n",
    "    In this situation, is it appropriate to use the tt or zz statistic?\n",
    "    Now try using the other test. How is the result be different? Why? "
   ]
  },
  {
   "cell_type": "markdown",
   "metadata": {},
   "source": [
    "### Q1) Is the true population mean really 98.6 degrees F?\n",
    "No. It is:  98.249~98.3  with a standard error of 0.055 "
   ]
  },
  {
   "cell_type": "code",
   "execution_count": 103,
   "metadata": {},
   "outputs": [
    {
     "name": "stdout",
     "output_type": "stream",
     "text": [
      "Mean:98.3592857143,Margin of Error:0.0684962119359\n"
     ]
    }
   ],
   "source": [
    "s1=np.random.choice(h,140)\n",
    "Mn=np.mean(s1)\n",
    "SE=np.std(s1)/np.sqrt(len(s1))\n",
    "print('Mean:%s,Margin of Error:%s'%(Mn,SE))"
   ]
  },
  {
   "cell_type": "markdown",
   "metadata": {},
   "source": [
    "### Q2) Would you use a one-sample or two-sample test? Why?\n",
    "We would use one Sample test because we don't have two or more samples sfrom two different times. \n",
    "One major requirement for two sample data tests is that the two data sets have to be independent \n",
    "which does not apply here as we are provided with only one data set and \n",
    "there is no way to get a second independent data set from a different time period. So this is a one-sample test."
   ]
  },
  {
   "cell_type": "markdown",
   "metadata": {},
   "source": [
    "### Q3) In this situation, is it appropriate to use the tt or zz statistic?\n",
    "We have a sample of size>30 with a known standard deviation. So ideally it should be Z test. \n",
    "If the sample size was < 30, then the t-test is more appropriate."
   ]
  },
  {
   "cell_type": "markdown",
   "metadata": {},
   "source": [
    "### Q4) Now try using the other test. How is the result be different? Why? \n",
    "T-test gives a T-statistic of 0.10 and probability of 0.91 which shows that we have very strong case NOT to reject out NULL hypothesis that the sample mean is NOT different from the observed mean.The high value of P and low value of T statistic might be because of the sample might be very close to the center of the normal curve.\n",
    "\n",
    "Z-value is 1.37 and the p-value is 0.17 indicate that with 95% CI (alpha= 0.05) indicate that we cannot reject the Null hypothesis that the two samples are NO different. "
   ]
  },
  {
   "cell_type": "code",
   "execution_count": 23,
   "metadata": {},
   "outputs": [
    {
     "data": {
      "text/plain": [
       "Ttest_indResult(statistic=-0.10937316450777729, pvalue=0.91303705058184881)"
      ]
     },
     "execution_count": 23,
     "metadata": {},
     "output_type": "execute_result"
    }
   ],
   "source": [
    "s1=np.random.choice(h,40)\n",
    "scipy.stats.ttest_ind(s1,h, axis=0, equal_var=True)"
   ]
  },
  {
   "cell_type": "code",
   "execution_count": 22,
   "metadata": {},
   "outputs": [
    {
     "data": {
      "text/plain": [
       "(-1.3705340003684117, 0.17052026938188225)"
      ]
     },
     "execution_count": 22,
     "metadata": {},
     "output_type": "execute_result"
    }
   ],
   "source": [
    "ztest(s1,h, value=0, alternative='two-sided', usevar='pooled', ddof=1.0)"
   ]
  },
  {
   "cell_type": "markdown",
   "metadata": {},
   "source": [
    "### Draw a small sample of size 10 from the data and repeat both tests.\n",
    "    Which one is the correct one to use?\n",
    "    What do you notice? What does this tell you about the difference in application of the tt and zz statistic?\n",
    "For a sample size of 10, we are not seeing any significant difference between the test statistic and the p values. Infact they are very close to each other: 0.16, 0.86. "
   ]
  },
  {
   "cell_type": "code",
   "execution_count": 138,
   "metadata": {},
   "outputs": [
    {
     "name": "stdout",
     "output_type": "stream",
     "text": [
      "H Stdv: 0.730357778905\n",
      "S1 Stdv: 0.552177507691\n",
      "Ttest_indResult(statistic=-0.16505282778011626, pvalue=0.86914393473555296)\n",
      "(-0.16505282778011626, 0.86890240165292276)\n"
     ]
    }
   ],
   "source": [
    "s1=np.random.choice(h,10)\n",
    "print('H Stdv:',np.std(h))\n",
    "print('S1 Stdv:', np.std(s1))\n",
    "\n",
    "print(scipy.stats.ttest_ind(s1,h, equal_var='False'))\n",
    "print(ztest(s1,h, value=0,alternative='two-sided',ddof=1.0))"
   ]
  },
  {
   "cell_type": "markdown",
   "metadata": {},
   "source": [
    "### At what temperature should we consider someone's temperature to be \"abnormal\"?\n",
    "    Start by computing the margin of error and confidence interval. \n",
    "With in a confidence interval of 99%, any temperature less than 96.48 or greater than 99.971 can be considred be abnormal with a margin of error of 0.14 "
   ]
  },
  {
   "cell_type": "code",
   "execution_count": 55,
   "metadata": {
    "collapsed": true
   },
   "outputs": [],
   "source": [
    "CI=np.percentile(h,[1,99])\n",
    "ME=2.33*(np.std(h)/np.sqrt(len(h)))"
   ]
  },
  {
   "cell_type": "code",
   "execution_count": 54,
   "metadata": {},
   "outputs": [
    {
     "name": "stdout",
     "output_type": "stream",
     "text": [
      "[ 96.487  99.971] 0.14925191224\n"
     ]
    }
   ],
   "source": [
    "print(CI,ME)"
   ]
  },
  {
   "cell_type": "markdown",
   "metadata": {},
   "source": [
    "### Is there a significant difference between males and females in normal temperature?\n",
    "    What test did you use and why?\n",
    "We used Z statistic because the sample size is greater than>65 and the stadard deviation is known. The Z statistic is -2.28 and the P vlaue is 0.02 (>0.01). So we can reject the null hypothesis that the mean temperature between males and females is not same. "
   ]
  },
  {
   "cell_type": "markdown",
   "metadata": {},
   "source": []
  },
  {
   "cell_type": "code",
   "execution_count": 186,
   "metadata": {},
   "outputs": [
    {
     "name": "stdout",
     "output_type": "stream",
     "text": [
      "Mean: 98.24923076923078,Standard Deviation: 0.0636933525488,Standard Error of the Mean: 0.000636933525488,5 Percent Confidence Interval: [ 98.08076154  98.41153846],Probability: 0.5029\n"
     ]
    }
   ],
   "source": [
    "print('Mean: %s,Standard Deviation: %s,Standard Error of the Mean: %s,5 Percent Confidence Interval: %s,Probability: %s'%(mean, STD, SEM2,conf_ind,p))"
   ]
  },
  {
   "cell_type": "code",
   "execution_count": 92,
   "metadata": {
    "collapsed": true
   },
   "outputs": [],
   "source": [
    "df_m=sorted(df.temperature[df.gender=='M'])\n",
    "df_f=sorted(df.temperature[df.gender=='F'])"
   ]
  },
  {
   "cell_type": "code",
   "execution_count": 100,
   "metadata": {},
   "outputs": [
    {
     "data": {
      "image/png": "[encoded data removed]",
      "text/plain": [
       "<matplotlib.figure.Figure at 0x117dce0e630>"
      ]
     },
     "metadata": {},
     "output_type": "display_data"
    }
   ],
   "source": [
    "plt.subplot(221)\n",
    "fit = scipy.stats.norm.pdf(df_m, np.mean(df_m), np.std(df_m))  #this is a fitting indeed\n",
    "_=plt.plot(df_m,fit,'-o')\n",
    "_=plt.hist(df_m,bins='auto',normed=1)\n",
    "plt.title('Temp Distribution of Men')\n",
    "\n",
    "plt.subplot(222)\n",
    "fit = scipy.stats.norm.pdf(df_f, np.mean(df_f), np.std(df_f))  #this is a fitting indeed\n",
    "_=plt.plot(df_f,fit,'-o')\n",
    "_=plt.hist(df_f,bins='auto',normed=1)\n",
    "plt.title('Temp Distribution of Women')\n",
    "plt.show()"
   ]
  },
  {
   "cell_type": "code",
   "execution_count": 189,
   "metadata": {},
   "outputs": [
    {
     "name": "stdout",
     "output_type": "stream",
     "text": [
      "Male Obs Mean: 0.693359884183,Female Obs Mean: 0.737746448643,95 CI Values for Males Temp: 0.0239382641829, 95 CI Values for Females Temp: 0.0222873607607,T test: -2.28543453817, P-value(T test): 0.0239382641829,Z-Test:-2.28543453817, P-value(Z test):0.0222873607607\n"
     ]
    }
   ],
   "source": [
    "m1=np.std(df_m)\n",
    "m2=np.std(df_f)\n",
    "p1=np.percentile(df_m,[1.5,97.5])\n",
    "p2=np.percentile(df_f,[1.5,97.5]) \n",
    "t,p1=scipy.stats.ttest_ind(df_m,df_f, axis=0, equal_var=False)\n",
    "z,p2=ztest(df_m,df_f,value=0, alternative='two-sided', ddof=1.0)\n",
    "\n",
    "print('Male Obs Mean: %s,Female Obs Mean: %s,95 CI Values for Males Temp: %s, 95 CI Values for Females Temp: %s,T test: %s, P-value(T test): %s,Z-Test:%s, P-value(Z test):%s'%(m1,m2,p1,p2,t,p1,z,p2))"
   ]
  },
  {
   "cell_type": "markdown",
   "metadata": {},
   "source": [
    "### Write a story with your conclusion in the context of the original problem?\n",
    "Based on our analysis the overall human temmperature observations are normally distributed wth an mean temperature of 98.4.We created 1000 Bootstrap replicates from the human body observations and got the following statistics.\n",
    "The mean temperature of the Human temperature is 98.249 and it varies between 98.121 and 98.37 which is the 5% Confidence Internval. Mean error is 0.00064, so the actual 5% Confidence Interval values  vary between 98.1216 and 98.3726.\n",
    "The probablility of the Bootstrap samples having means less than the observed mean is 0.502 which is acceptable. Therefore we conclude that we cannot reject the Hypothesis that samples have the same mean temperature as the obs"
   ]
  }
 ],
 "metadata": {
  "kernelspec": {
   "display_name": "Python 3",
   "language": "python",
   "name": "python3"
  },
  "language_info": {
   "codemirror_mode": {
    "name": "ipython",
    "version": 3
   },
   "file_extension": ".py",
   "mimetype": "text/x-python",
   "name": "python",
   "nbconvert_exporter": "python",
   "pygments_lexer": "ipython3",
   "version": "3.6.3"
  }
 },
 "nbformat": 4,
 "nbformat_minor": 1
}
